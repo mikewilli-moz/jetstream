{
 "cells": [
  {
   "cell_type": "code",
   "execution_count": 1,
   "id": "d5cb85d7-769d-4ccd-8eec-f80f367b8653",
   "metadata": {},
   "outputs": [],
   "source": [
    "from jetstream.bigquery_client import BigQueryClient\n",
    "import numpy as np\n",
    "from statsmodels.stats.proportion import proportion_confint"
   ]
  },
  {
   "cell_type": "code",
   "execution_count": 2,
   "id": "ecf326de-db26-49e0-bc22-57804afe280f",
   "metadata": {},
   "outputs": [],
   "source": [
    "DATASET = 'dberry_simulated_AA_tests_00'"
   ]
  },
  {
   "cell_type": "code",
   "execution_count": 3,
   "id": "f6fd9f82-1b72-4b2e-be10-e83e774ea050",
   "metadata": {},
   "outputs": [],
   "source": [
    "client = BigQueryClient(project='moz-fx-data-experiments',dataset=DATASET)"
   ]
  },
  {
   "cell_type": "code",
   "execution_count": 4,
   "id": "5090eb6f-cfa5-472b-82a4-7bb2c991cf77",
   "metadata": {},
   "outputs": [],
   "source": [
    "sim_1_results_df = client.table_to_dataframe('statistics_more_from_mozilla_96_overall_1')"
   ]
  },
  {
   "cell_type": "code",
   "execution_count": 5,
   "id": "af9d384b-ae6d-4e79-8f08-f4289499abe8",
   "metadata": {},
   "outputs": [],
   "source": [
    "comparisons_df = sim_1_results_df.loc[~sim_1_results_df.comparison.isnull()].copy()"
   ]
  },
  {
   "cell_type": "code",
   "execution_count": 6,
   "id": "334410ec-0fae-406f-b1f3-f842f15e51c1",
   "metadata": {},
   "outputs": [
    {
     "data": {
      "text/html": [
       "<div>\n",
       "<style scoped>\n",
       "    .dataframe tbody tr th:only-of-type {\n",
       "        vertical-align: middle;\n",
       "    }\n",
       "\n",
       "    .dataframe tbody tr th {\n",
       "        vertical-align: top;\n",
       "    }\n",
       "\n",
       "    .dataframe thead th {\n",
       "        text-align: right;\n",
       "    }\n",
       "</style>\n",
       "<table border=\"1\" class=\"dataframe\">\n",
       "  <thead>\n",
       "    <tr style=\"text-align: right;\">\n",
       "      <th></th>\n",
       "      <th>metric</th>\n",
       "      <th>statistic</th>\n",
       "      <th>parameter</th>\n",
       "      <th>branch</th>\n",
       "      <th>comparison</th>\n",
       "      <th>comparison_to_branch</th>\n",
       "      <th>ci_width</th>\n",
       "      <th>point</th>\n",
       "      <th>lower</th>\n",
       "      <th>upper</th>\n",
       "      <th>segment</th>\n",
       "      <th>analysis_basis</th>\n",
       "    </tr>\n",
       "  </thead>\n",
       "  <tbody>\n",
       "    <tr>\n",
       "      <th>1044</th>\n",
       "      <td>uri_count</td>\n",
       "      <td>deciles</td>\n",
       "      <td>0.300000000</td>\n",
       "      <td>treatment-b</td>\n",
       "      <td>difference</td>\n",
       "      <td>control</td>\n",
       "      <td>0.95</td>\n",
       "      <td>0.15436</td>\n",
       "      <td>-6.0</td>\n",
       "      <td>6.0</td>\n",
       "      <td>all</td>\n",
       "      <td>enrollments</td>\n",
       "    </tr>\n",
       "    <tr>\n",
       "      <th>1045</th>\n",
       "      <td>uri_count</td>\n",
       "      <td>deciles</td>\n",
       "      <td>0.400000000</td>\n",
       "      <td>treatment-b</td>\n",
       "      <td>difference</td>\n",
       "      <td>control</td>\n",
       "      <td>0.95</td>\n",
       "      <td>-1.34730</td>\n",
       "      <td>-11.0</td>\n",
       "      <td>9.0</td>\n",
       "      <td>all</td>\n",
       "      <td>enrollments</td>\n",
       "    </tr>\n",
       "    <tr>\n",
       "      <th>1046</th>\n",
       "      <td>uri_count</td>\n",
       "      <td>deciles</td>\n",
       "      <td>0.500000000</td>\n",
       "      <td>treatment-b</td>\n",
       "      <td>difference</td>\n",
       "      <td>control</td>\n",
       "      <td>0.95</td>\n",
       "      <td>2.28590</td>\n",
       "      <td>-15.0</td>\n",
       "      <td>19.0</td>\n",
       "      <td>all</td>\n",
       "      <td>enrollments</td>\n",
       "    </tr>\n",
       "    <tr>\n",
       "      <th>1047</th>\n",
       "      <td>uri_count</td>\n",
       "      <td>deciles</td>\n",
       "      <td>0.600000000</td>\n",
       "      <td>treatment-b</td>\n",
       "      <td>difference</td>\n",
       "      <td>control</td>\n",
       "      <td>0.95</td>\n",
       "      <td>3.37460</td>\n",
       "      <td>-20.0</td>\n",
       "      <td>28.0</td>\n",
       "      <td>all</td>\n",
       "      <td>enrollments</td>\n",
       "    </tr>\n",
       "    <tr>\n",
       "      <th>1048</th>\n",
       "      <td>uri_count</td>\n",
       "      <td>deciles</td>\n",
       "      <td>0.700000000</td>\n",
       "      <td>treatment-b</td>\n",
       "      <td>difference</td>\n",
       "      <td>control</td>\n",
       "      <td>0.95</td>\n",
       "      <td>8.29016</td>\n",
       "      <td>-27.0</td>\n",
       "      <td>44.0</td>\n",
       "      <td>all</td>\n",
       "      <td>enrollments</td>\n",
       "    </tr>\n",
       "    <tr>\n",
       "      <th>...</th>\n",
       "      <td>...</td>\n",
       "      <td>...</td>\n",
       "      <td>...</td>\n",
       "      <td>...</td>\n",
       "      <td>...</td>\n",
       "      <td>...</td>\n",
       "      <td>...</td>\n",
       "      <td>...</td>\n",
       "      <td>...</td>\n",
       "      <td>...</td>\n",
       "      <td>...</td>\n",
       "      <td>...</td>\n",
       "    </tr>\n",
       "    <tr>\n",
       "      <th>1403</th>\n",
       "      <td>ad_clicks</td>\n",
       "      <td>deciles</td>\n",
       "      <td>0.800000000</td>\n",
       "      <td>treatment-b</td>\n",
       "      <td>relative_uplift</td>\n",
       "      <td>control</td>\n",
       "      <td>0.95</td>\n",
       "      <td>0.00000</td>\n",
       "      <td>0.0</td>\n",
       "      <td>0.0</td>\n",
       "      <td>all</td>\n",
       "      <td>enrollments</td>\n",
       "    </tr>\n",
       "    <tr>\n",
       "      <th>1404</th>\n",
       "      <td>ad_clicks</td>\n",
       "      <td>deciles</td>\n",
       "      <td>0.900000000</td>\n",
       "      <td>treatment-b</td>\n",
       "      <td>relative_uplift</td>\n",
       "      <td>control</td>\n",
       "      <td>0.95</td>\n",
       "      <td>0.00000</td>\n",
       "      <td>0.0</td>\n",
       "      <td>0.0</td>\n",
       "      <td>all</td>\n",
       "      <td>enrollments</td>\n",
       "    </tr>\n",
       "    <tr>\n",
       "      <th>1405</th>\n",
       "      <td>ad_clicks</td>\n",
       "      <td>deciles</td>\n",
       "      <td>0.700000000</td>\n",
       "      <td>treatment-a</td>\n",
       "      <td>relative_uplift</td>\n",
       "      <td>control</td>\n",
       "      <td>0.95</td>\n",
       "      <td>0.00000</td>\n",
       "      <td>0.0</td>\n",
       "      <td>0.0</td>\n",
       "      <td>all</td>\n",
       "      <td>enrollments</td>\n",
       "    </tr>\n",
       "    <tr>\n",
       "      <th>1406</th>\n",
       "      <td>ad_clicks</td>\n",
       "      <td>deciles</td>\n",
       "      <td>0.800000000</td>\n",
       "      <td>treatment-a</td>\n",
       "      <td>relative_uplift</td>\n",
       "      <td>control</td>\n",
       "      <td>0.95</td>\n",
       "      <td>0.00000</td>\n",
       "      <td>0.0</td>\n",
       "      <td>0.0</td>\n",
       "      <td>all</td>\n",
       "      <td>enrollments</td>\n",
       "    </tr>\n",
       "    <tr>\n",
       "      <th>1407</th>\n",
       "      <td>ad_clicks</td>\n",
       "      <td>deciles</td>\n",
       "      <td>0.900000000</td>\n",
       "      <td>treatment-a</td>\n",
       "      <td>relative_uplift</td>\n",
       "      <td>control</td>\n",
       "      <td>0.95</td>\n",
       "      <td>0.00000</td>\n",
       "      <td>0.0</td>\n",
       "      <td>0.0</td>\n",
       "      <td>all</td>\n",
       "      <td>enrollments</td>\n",
       "    </tr>\n",
       "  </tbody>\n",
       "</table>\n",
       "<p>364 rows × 12 columns</p>\n",
       "</div>"
      ],
      "text/plain": [
       "         metric statistic    parameter       branch       comparison  \\\n",
       "1044  uri_count   deciles  0.300000000  treatment-b       difference   \n",
       "1045  uri_count   deciles  0.400000000  treatment-b       difference   \n",
       "1046  uri_count   deciles  0.500000000  treatment-b       difference   \n",
       "1047  uri_count   deciles  0.600000000  treatment-b       difference   \n",
       "1048  uri_count   deciles  0.700000000  treatment-b       difference   \n",
       "...         ...       ...          ...          ...              ...   \n",
       "1403  ad_clicks   deciles  0.800000000  treatment-b  relative_uplift   \n",
       "1404  ad_clicks   deciles  0.900000000  treatment-b  relative_uplift   \n",
       "1405  ad_clicks   deciles  0.700000000  treatment-a  relative_uplift   \n",
       "1406  ad_clicks   deciles  0.800000000  treatment-a  relative_uplift   \n",
       "1407  ad_clicks   deciles  0.900000000  treatment-a  relative_uplift   \n",
       "\n",
       "     comparison_to_branch  ci_width    point  lower  upper segment  \\\n",
       "1044              control      0.95  0.15436   -6.0    6.0     all   \n",
       "1045              control      0.95 -1.34730  -11.0    9.0     all   \n",
       "1046              control      0.95  2.28590  -15.0   19.0     all   \n",
       "1047              control      0.95  3.37460  -20.0   28.0     all   \n",
       "1048              control      0.95  8.29016  -27.0   44.0     all   \n",
       "...                   ...       ...      ...    ...    ...     ...   \n",
       "1403              control      0.95  0.00000    0.0    0.0     all   \n",
       "1404              control      0.95  0.00000    0.0    0.0     all   \n",
       "1405              control      0.95  0.00000    0.0    0.0     all   \n",
       "1406              control      0.95  0.00000    0.0    0.0     all   \n",
       "1407              control      0.95  0.00000    0.0    0.0     all   \n",
       "\n",
       "     analysis_basis  \n",
       "1044    enrollments  \n",
       "1045    enrollments  \n",
       "1046    enrollments  \n",
       "1047    enrollments  \n",
       "1048    enrollments  \n",
       "...             ...  \n",
       "1403    enrollments  \n",
       "1404    enrollments  \n",
       "1405    enrollments  \n",
       "1406    enrollments  \n",
       "1407    enrollments  \n",
       "\n",
       "[364 rows x 12 columns]"
      ]
     },
     "execution_count": 6,
     "metadata": {},
     "output_type": "execute_result"
    }
   ],
   "source": [
    "comparisons_df"
   ]
  },
  {
   "cell_type": "code",
   "execution_count": 7,
   "id": "e8d81949-0693-445e-9d60-625e9ef5f5b8",
   "metadata": {},
   "outputs": [],
   "source": [
    "def sign(a):\n",
    "    return (a > 0) - (a < 0)"
   ]
  },
  {
   "cell_type": "code",
   "execution_count": 8,
   "id": "58544e1c-d7a0-4c6a-b852-d90c5f3b7df8",
   "metadata": {},
   "outputs": [],
   "source": [
    "comparisons_df.loc[:, 'different_signs'] = (comparisons_df.lower.apply(sign) != comparisons_df.upper.apply(sign))\n",
    "comparisons_df.loc[:, 'both_zero'] = np.isclose(comparisons_df.lower.apply(sign) & comparisons_df.upper.apply(sign), 0)\n",
    "comparisons_df.loc[:, 'CI_contains_zero'] = comparisons_df[['different_signs', 'both_zero']].apply(lambda row: 'Yes' if row.different_signs else ('Both-zero' if row.both_zero else 'No'), axis = 'columns')"
   ]
  },
  {
   "cell_type": "code",
   "execution_count": 9,
   "id": "a4e1243a-5fed-4415-9de1-c315836de26b",
   "metadata": {},
   "outputs": [],
   "source": [
    "comparisons_df_not_both_zero = comparisons_df.loc[comparisons_df.CI_contains_zero != 'Both-zero'].copy()"
   ]
  },
  {
   "cell_type": "code",
   "execution_count": 10,
   "id": "23be4c89-5564-4ab3-9e5e-bcbc1fd5cb68",
   "metadata": {},
   "outputs": [
    {
     "data": {
      "text/plain": [
       "Yes    180\n",
       "No       6\n",
       "Name: CI_contains_zero, dtype: int64"
      ]
     },
     "metadata": {},
     "output_type": "display_data"
    }
   ],
   "source": [
    "cicz_vc = comparisons_df_not_both_zero.CI_contains_zero.value_counts()\n",
    "display(cicz_vc)\n",
    "n_ci_contains_zero = cicz_vc.loc[cicz_vc.index == 'Yes'][0]\n",
    "n_ci_not_contains_zero = cicz_vc.loc[cicz_vc.index == 'No'][0]\n",
    "n_ci_total = n_ci_contains_zero + n_ci_not_contains_zero"
   ]
  },
  {
   "cell_type": "code",
   "execution_count": 11,
   "id": "bc1dde46-dd66-47eb-b27b-070e9ecc4f40",
   "metadata": {},
   "outputs": [
    {
     "data": {
      "text/plain": [
       "'96.77% of the comparison metric confidence intervals are insignificant'"
      ]
     },
     "execution_count": 11,
     "metadata": {},
     "output_type": "execute_result"
    }
   ],
   "source": [
    "prop_ci_contains_zero = n_ci_contains_zero / n_ci_total\n",
    "'{:0.2f}% of the comparison metric confidence intervals are insignificant'.format(prop_ci_contains_zero*100)"
   ]
  },
  {
   "cell_type": "code",
   "execution_count": 12,
   "id": "49c9f4ca-b937-4736-8076-2a633bd0e43f",
   "metadata": {},
   "outputs": [
    {
     "name": "stdout",
     "output_type": "stream",
     "text": [
      "Our confidence interval for the proportion of insignificant CIs is (94.24%, 99.31%)\n"
     ]
    }
   ],
   "source": [
    "sim_ci_success_low, sim_ci_success_high = proportion_confint(n_ci_contains_zero, n_ci_total)\n",
    "print('Our confidence interval for the proportion of insignificant CIs is ({:0.2f}%, {:0.2f}%)'.format(sim_ci_success_low*100, sim_ci_success_high*100))"
   ]
  },
  {
   "cell_type": "code",
   "execution_count": 13,
   "id": "c373ef5b-39d7-4e7a-ba3f-ee101c3cc0a8",
   "metadata": {},
   "outputs": [
    {
     "name": "stdout",
     "output_type": "stream",
     "text": [
      "Observed proportion of insignificant metrics IS NOT significantly different from null hypothesis of 95%\n"
     ]
    }
   ],
   "source": [
    "if (sim_ci_success_low < 0.95) and (0.95 < sim_ci_success_high):\n",
    "    print('Observed proportion of insignificant metrics IS NOT significantly different from null hypothesis of 95%')\n",
    "else:\n",
    "    print('Obserbed proportion of insignificant metrics IS significantly different from null hypothesis of 95%')"
   ]
  }
 ],
 "metadata": {
  "kernelspec": {
   "display_name": "Python 3 (ipykernel)",
   "language": "python",
   "name": "python3"
  },
  "language_info": {
   "codemirror_mode": {
    "name": "ipython",
    "version": 3
   },
   "file_extension": ".py",
   "mimetype": "text/x-python",
   "name": "python",
   "nbconvert_exporter": "python",
   "pygments_lexer": "ipython3",
   "version": "3.9.7"
  }
 },
 "nbformat": 4,
 "nbformat_minor": 5
}
