{
 "cells": [
  {
   "cell_type": "markdown",
   "id": "a3968777-096e-4a98-b2ea-774cee323b4a",
   "metadata": {},
   "source": [
    "# Config"
   ]
  },
  {
   "cell_type": "code",
   "execution_count": 1,
   "id": "3ff5b30c-30c7-4a88-8501-7146f7a3d819",
   "metadata": {},
   "outputs": [],
   "source": [
    "DRY_RUN = False\n",
    "N_SIMULTANEOUS_ARGO_JOBS = 20\n",
    "N_SIMULATIONS = 100"
   ]
  },
  {
   "cell_type": "markdown",
   "id": "55f391c1-bfc4-4d27-81e1-892170d5c6c9",
   "metadata": {},
   "source": [
    "# Setup"
   ]
  },
  {
   "cell_type": "markdown",
   "id": "c82f9182-78b9-4c11-b209-c3d5ceabc531",
   "metadata": {},
   "source": [
    "Build/deploy most recent container image"
   ]
  },
  {
   "cell_type": "code",
   "execution_count": 2,
   "id": "5f5693f1-3748-4c6c-baa3-7160633fd760",
   "metadata": {
    "tags": []
   },
   "outputs": [
    {
     "name": "stdout",
     "output_type": "stream",
     "text": [
      "Using default tag: latest\n",
      "The push refers to repository [gcr.io/moz-fx-data-experiments/dberry-jetstream]\n",
      "a2e42e1359d5: Preparing\n",
      "0e3aec3db855: Preparing\n",
      "5f70bf18a086: Preparing\n",
      "0ae468ad3315: Preparing\n",
      "71aeb5b4699c: Preparing\n",
      "95bfa4940c59: Preparing\n",
      "8dc5d08744dd: Preparing\n",
      "ff1f2a3b1a2d: Preparing\n",
      "5b9e7e39f904: Preparing\n",
      "182f3ce3bf27: Preparing\n",
      "316e3949bffa: Preparing\n",
      "e3f84a8cee1f: Preparing\n",
      "48144a6f44ae: Preparing\n",
      "26d5108b2cba: Preparing\n",
      "89fda00479fc: Preparing\n",
      "5b9e7e39f904: Waiting\n",
      "182f3ce3bf27: Waiting\n",
      "316e3949bffa: Waiting\n",
      "e3f84a8cee1f: Waiting\n",
      "48144a6f44ae: Waiting\n",
      "26d5108b2cba: Waiting\n",
      "89fda00479fc: Waiting\n",
      "8dc5d08744dd: Waiting\n",
      "95bfa4940c59: Waiting\n",
      "ff1f2a3b1a2d: Waiting\n",
      "5f70bf18a086: Layer already exists\n",
      "71aeb5b4699c: Layer already exists\n",
      "0ae468ad3315: Layer already exists\n",
      "95bfa4940c59: Layer already exists\n",
      "8dc5d08744dd: Layer already exists\n",
      "ff1f2a3b1a2d: Layer already exists\n",
      "5b9e7e39f904: Layer already exists\n",
      "182f3ce3bf27: Layer already exists\n",
      "316e3949bffa: Layer already exists\n",
      "e3f84a8cee1f: Layer already exists\n",
      "48144a6f44ae: Layer already exists\n",
      "26d5108b2cba: Layer already exists\n",
      "89fda00479fc: Layer already exists\n",
      "a2e42e1359d5: Pushed\n",
      "0e3aec3db855: Pushed\n",
      "latest: digest: sha256:fe988188924b67d3fc3866456a0e44eb4a8c98549d989e562cebf1b4d68a9b95 size: 3475\n"
     ]
    },
    {
     "name": "stderr",
     "output_type": "stream",
     "text": [
      "#1 [internal] load build definition from Dockerfile\n",
      "#1 sha256:23428abc3552d980089f37e3529d936c9f6c7fe78a75b553e641e1118c38c79a\n",
      "#1 transferring dockerfile: 37B done\n",
      "#1 DONE 0.0s\n",
      "\n",
      "#2 [internal] load .dockerignore\n",
      "#2 sha256:628f5645742c0740dc4d82752bb82b94b2eb7df2d93cd15b6bbff5fafb5e57db\n",
      "#2 transferring context: 34B done\n",
      "#2 DONE 0.0s\n",
      "\n",
      "#3 [internal] load metadata for docker.io/library/python:3.8\n",
      "#3 sha256:edad251955f644c6004999f0af04035912392fa02db26821676452becbc715fb\n",
      "#3 DONE 2.2s\n",
      "\n",
      "#4 [1/7] FROM docker.io/library/python:3.8@sha256:53cb5152064a7e7b485ad42704ea63c5155b264c82e7f17de99d3aa28e4f8956\n",
      "#4 sha256:2bcf9d7e1be5c851f4dd24e5b6cd59a3d8e90180dcc5894973a533b1625888d2\n",
      "#4 DONE 0.0s\n",
      "\n",
      "#5 [internal] load build context\n",
      "#5 sha256:63492c8ae75977de819b51f8a1875e38ae043bc6feb6c631f39b0ad29d8ac7bd\n",
      "#5 transferring context: 3.88MB 0.2s done\n",
      "#5 DONE 0.2s\n",
      "\n",
      "#7 [3/7] RUN python -m pip install --no-cache-dir --upgrade pip==22.0.3     && python -m pip install --no-cache-dir -r requirements.txt\n",
      "#7 sha256:ada20306a5c74afcdcdb329ec3ae278519446babe8d73796ce5f514f2bb15a82\n",
      "#7 CACHED\n",
      "\n",
      "#8 [4/7] RUN mkdir -p /app\n",
      "#8 sha256:7933395ee18c0eca552b510110709910cb09e82bed6bd4c0f6e83247b8f71528\n",
      "#8 CACHED\n",
      "\n",
      "#6 [2/7] COPY requirements.txt requirements.txt\n",
      "#6 sha256:8c477d38f35123f19625a6b90120a2e3baedcc20cdae6dfdc66f8b066e76909f\n",
      "#6 CACHED\n",
      "\n",
      "#9 [5/7] WORKDIR /app\n",
      "#9 sha256:d1cd16b897aa19b896a99e64f4bdf68da61c53c278b3a2cf0d4eda36824ec4a2\n",
      "#9 CACHED\n",
      "\n",
      "#10 [6/7] COPY . .\n",
      "#10 sha256:0555c00248b88a73bc1b1af8bbee53e03b528a609fb996e9000932beced69de6\n",
      "#10 DONE 0.3s\n",
      "\n",
      "#11 [7/7] RUN python -m pip install --no-cache-dir .\n",
      "#11 sha256:4762ab1892f467d91b9652ddc99d772263fd8c1aa233df1dfe5de667d4fdddfd\n",
      "#11 3.062 Processing /app\n",
      "#11 3.854   Installing build dependencies: started\n",
      "#11 21.83   Installing build dependencies: finished with status 'done'\n",
      "#11 21.84   Getting requirements to build wheel: started\n",
      "#11 31.09   Getting requirements to build wheel: finished with status 'done'\n",
      "#11 31.11   Preparing metadata (pyproject.toml): started\n",
      "#11 40.92   Preparing metadata (pyproject.toml): finished with status 'done'\n",
      "#11 41.09 Requirement already satisfied: jinja2 in /usr/local/lib/python3.8/site-packages (from mozilla-jetstream==2021.1.0) (3.0.3)\n",
      "#11 41.10 Requirement already satisfied: statsmodels in /usr/local/lib/python3.8/site-packages (from mozilla-jetstream==2021.1.0) (0.13.2)\n",
      "#11 41.10 Requirement already satisfied: PyYAML in /usr/local/lib/python3.8/site-packages (from mozilla-jetstream==2021.1.0) (6.0)\n",
      "#11 41.10 Requirement already satisfied: google-cloud-container in /usr/local/lib/python3.8/site-packages (from mozilla-jetstream==2021.1.0) (2.10.5)\n",
      "#11 41.11 Requirement already satisfied: requests in /usr/local/lib/python3.8/site-packages (from mozilla-jetstream==2021.1.0) (2.27.1)\n",
      "#11 41.11 Requirement already satisfied: toml in /usr/local/lib/python3.8/site-packages (from mozilla-jetstream==2021.1.0) (0.10.2)\n",
      "#11 41.11 Requirement already satisfied: google-cloud-bigquery-storage in /usr/local/lib/python3.8/site-packages (from mozilla-jetstream==2021.1.0) (2.12.0)\n",
      "#11 41.12 Requirement already satisfied: mozanalysis in /usr/local/lib/python3.8/site-packages (from mozilla-jetstream==2021.1.0) (2021.12.2)\n",
      "#11 41.12 Requirement already satisfied: pytz in /usr/local/lib/python3.8/site-packages (from mozilla-jetstream==2021.1.0) (2021.3)\n",
      "#11 41.12 Requirement already satisfied: google-cloud-storage in /usr/local/lib/python3.8/site-packages (from mozilla-jetstream==2021.1.0) (2.1.0)\n",
      "#11 41.13 Requirement already satisfied: pyarrow in /usr/local/lib/python3.8/site-packages (from mozilla-jetstream==2021.1.0) (7.0.0)\n",
      "#11 41.13 Requirement already satisfied: cattrs in /usr/local/lib/python3.8/site-packages (from mozilla-jetstream==2021.1.0) (1.10.0)\n",
      "#11 41.13 Requirement already satisfied: dask[distributed] in /usr/local/lib/python3.8/site-packages (from mozilla-jetstream==2021.1.0) (2022.2.1)\n",
      "#11 41.14 Requirement already satisfied: GitPython in /usr/local/lib/python3.8/site-packages (from mozilla-jetstream==2021.1.0) (3.1.27)\n",
      "#11 41.14 Requirement already satisfied: grpcio in /usr/local/lib/python3.8/site-packages (from mozilla-jetstream==2021.1.0) (1.44.0)\n",
      "#11 41.14 Requirement already satisfied: google-cloud-bigquery in /usr/local/lib/python3.8/site-packages (from mozilla-jetstream==2021.1.0) (2.34.0)\n",
      "#11 41.15 Requirement already satisfied: smart-open[gcs] in /usr/local/lib/python3.8/site-packages (from mozilla-jetstream==2021.1.0) (5.2.1)\n",
      "#11 41.15 Requirement already satisfied: attrs in /usr/local/lib/python3.8/site-packages (from mozilla-jetstream==2021.1.0) (21.4.0)\n",
      "#11 41.16 Requirement already satisfied: Click in /usr/local/lib/python3.8/site-packages (from mozilla-jetstream==2021.1.0) (8.0.4)\n",
      "#11 41.51 Requirement already satisfied: toolz>=0.8.2 in /usr/local/lib/python3.8/site-packages (from dask[distributed]->mozilla-jetstream==2021.1.0) (0.11.2)\n",
      "#11 41.51 Requirement already satisfied: partd>=0.3.10 in /usr/local/lib/python3.8/site-packages (from dask[distributed]->mozilla-jetstream==2021.1.0) (1.2.0)\n",
      "#11 41.52 Requirement already satisfied: fsspec>=0.6.0 in /usr/local/lib/python3.8/site-packages (from dask[distributed]->mozilla-jetstream==2021.1.0) (2022.2.0)\n",
      "#11 41.52 Requirement already satisfied: cloudpickle>=1.1.1 in /usr/local/lib/python3.8/site-packages (from dask[distributed]->mozilla-jetstream==2021.1.0) (2.0.0)\n",
      "#11 41.52 Requirement already satisfied: packaging>=20.0 in /usr/local/lib/python3.8/site-packages (from dask[distributed]->mozilla-jetstream==2021.1.0) (21.3)\n",
      "#11 41.53 Requirement already satisfied: distributed==2022.02.1 in /usr/local/lib/python3.8/site-packages (from dask[distributed]->mozilla-jetstream==2021.1.0) (2022.2.1)\n",
      "#11 41.59 Requirement already satisfied: setuptools in /usr/local/lib/python3.8/site-packages (from distributed==2022.02.1->dask[distributed]->mozilla-jetstream==2021.1.0) (57.5.0)\n",
      "#11 41.60 Requirement already satisfied: psutil>=5.0 in /usr/local/lib/python3.8/site-packages (from distributed==2022.02.1->dask[distributed]->mozilla-jetstream==2021.1.0) (5.9.0)\n",
      "#11 41.60 Requirement already satisfied: sortedcontainers!=2.0.0,!=2.0.1 in /usr/local/lib/python3.8/site-packages (from distributed==2022.02.1->dask[distributed]->mozilla-jetstream==2021.1.0) (2.4.0)\n",
      "#11 41.61 Requirement already satisfied: tornado>=6.0.3 in /usr/local/lib/python3.8/site-packages (from distributed==2022.02.1->dask[distributed]->mozilla-jetstream==2021.1.0) (6.1)\n",
      "#11 41.61 Requirement already satisfied: zict>=0.1.3 in /usr/local/lib/python3.8/site-packages (from distributed==2022.02.1->dask[distributed]->mozilla-jetstream==2021.1.0) (2.1.0)\n",
      "#11 41.62 Requirement already satisfied: tblib>=1.6.0 in /usr/local/lib/python3.8/site-packages (from distributed==2022.02.1->dask[distributed]->mozilla-jetstream==2021.1.0) (1.7.0)\n",
      "#11 41.62 Requirement already satisfied: msgpack>=0.6.0 in /usr/local/lib/python3.8/site-packages (from distributed==2022.02.1->dask[distributed]->mozilla-jetstream==2021.1.0) (1.0.3)\n",
      "#11 41.66 Requirement already satisfied: gitdb<5,>=4.0.1 in /usr/local/lib/python3.8/site-packages (from GitPython->mozilla-jetstream==2021.1.0) (4.0.9)\n",
      "#11 41.87 Requirement already satisfied: protobuf>=3.12.0 in /usr/local/lib/python3.8/site-packages (from google-cloud-bigquery->mozilla-jetstream==2021.1.0) (3.19.4)\n",
      "#11 41.87 Requirement already satisfied: python-dateutil<3.0dev,>=2.7.2 in /usr/local/lib/python3.8/site-packages (from google-cloud-bigquery->mozilla-jetstream==2021.1.0) (2.8.2)\n",
      "#11 41.87 Requirement already satisfied: google-resumable-media<3.0dev,>=0.6.0 in /usr/local/lib/python3.8/site-packages (from google-cloud-bigquery->mozilla-jetstream==2021.1.0) (2.3.0)\n",
      "#11 41.88 Requirement already satisfied: google-api-core[grpc]<3.0.0dev,>=1.29.0 in /usr/local/lib/python3.8/site-packages (from google-cloud-bigquery->mozilla-jetstream==2021.1.0) (2.5.0)\n",
      "#11 41.89 Requirement already satisfied: proto-plus>=1.10.0 in /usr/local/lib/python3.8/site-packages (from google-cloud-bigquery->mozilla-jetstream==2021.1.0) (1.20.3)\n",
      "#11 41.89 Requirement already satisfied: google-cloud-core<3.0.0dev,>=1.4.1 in /usr/local/lib/python3.8/site-packages (from google-cloud-bigquery->mozilla-jetstream==2021.1.0) (2.2.2)\n",
      "#11 41.93 Requirement already satisfied: six>=1.5.2 in /usr/local/lib/python3.8/site-packages (from grpcio->mozilla-jetstream==2021.1.0) (1.16.0)\n",
      "#11 42.02 Requirement already satisfied: charset-normalizer~=2.0.0 in /usr/local/lib/python3.8/site-packages (from requests->mozilla-jetstream==2021.1.0) (2.0.12)\n",
      "#11 42.03 Requirement already satisfied: certifi>=2017.4.17 in /usr/local/lib/python3.8/site-packages (from requests->mozilla-jetstream==2021.1.0) (2021.10.8)\n",
      "#11 42.03 Requirement already satisfied: idna<4,>=2.5 in /usr/local/lib/python3.8/site-packages (from requests->mozilla-jetstream==2021.1.0) (3.3)\n",
      "#11 42.04 Requirement already satisfied: urllib3<1.27,>=1.21.1 in /usr/local/lib/python3.8/site-packages (from requests->mozilla-jetstream==2021.1.0) (1.26.8)\n",
      "#11 42.13 Requirement already satisfied: grpc-google-iam-v1<0.13dev,>=0.12.3 in /usr/local/lib/python3.8/site-packages (from google-cloud-container->mozilla-jetstream==2021.1.0) (0.12.3)\n",
      "#11 42.18 Requirement already satisfied: google-auth<3.0dev,>=1.25.0 in /usr/local/lib/python3.8/site-packages (from google-cloud-storage->mozilla-jetstream==2021.1.0) (2.6.0)\n",
      "#11 42.21 Requirement already satisfied: MarkupSafe>=2.0 in /usr/local/lib/python3.8/site-packages (from jinja2->mozilla-jetstream==2021.1.0) (2.1.0)\n",
      "#11 42.29 Requirement already satisfied: scipy in /usr/local/lib/python3.8/site-packages (from mozanalysis->mozilla-jetstream==2021.1.0) (1.8.0)\n",
      "#11 42.30 Requirement already satisfied: pandas in /usr/local/lib/python3.8/site-packages (from mozanalysis->mozilla-jetstream==2021.1.0) (1.4.1)\n",
      "#11 42.30 Requirement already satisfied: numpy in /usr/local/lib/python3.8/site-packages (from mozanalysis->mozilla-jetstream==2021.1.0) (1.22.2)\n",
      "#11 42.63 Requirement already satisfied: patsy>=0.5.2 in /usr/local/lib/python3.8/site-packages (from statsmodels->mozilla-jetstream==2021.1.0) (0.5.2)\n",
      "#11 42.92 Requirement already satisfied: smmap<6,>=3.0.1 in /usr/local/lib/python3.8/site-packages (from gitdb<5,>=4.0.1->GitPython->mozilla-jetstream==2021.1.0) (5.0.0)\n",
      "#11 42.99 Requirement already satisfied: googleapis-common-protos<2.0dev,>=1.52.0 in /usr/local/lib/python3.8/site-packages (from google-api-core[grpc]<3.0.0dev,>=1.29.0->google-cloud-bigquery->mozilla-jetstream==2021.1.0) (1.55.0)\n",
      "#11 43.05 Requirement already satisfied: grpcio-status<2.0dev,>=1.33.2 in /usr/local/lib/python3.8/site-packages (from google-api-core[grpc]<3.0.0dev,>=1.29.0->google-cloud-bigquery->mozilla-jetstream==2021.1.0) (1.44.0)\n",
      "#11 43.17 Requirement already satisfied: pyasn1-modules>=0.2.1 in /usr/local/lib/python3.8/site-packages (from google-auth<3.0dev,>=1.25.0->google-cloud-storage->mozilla-jetstream==2021.1.0) (0.2.8)\n",
      "#11 43.18 Requirement already satisfied: rsa<5,>=3.1.4 in /usr/local/lib/python3.8/site-packages (from google-auth<3.0dev,>=1.25.0->google-cloud-storage->mozilla-jetstream==2021.1.0) (4.8)\n",
      "#11 43.19 Requirement already satisfied: cachetools<6.0,>=2.0.0 in /usr/local/lib/python3.8/site-packages (from google-auth<3.0dev,>=1.25.0->google-cloud-storage->mozilla-jetstream==2021.1.0) (5.0.0)\n",
      "#11 43.30 Requirement already satisfied: google-crc32c<2.0dev,>=1.0 in /usr/local/lib/python3.8/site-packages (from google-resumable-media<3.0dev,>=0.6.0->google-cloud-bigquery->mozilla-jetstream==2021.1.0) (1.3.0)\n",
      "#11 43.48 Requirement already satisfied: pyparsing!=3.0.5,>=2.0.2 in /usr/local/lib/python3.8/site-packages (from packaging>=20.0->dask[distributed]->mozilla-jetstream==2021.1.0) (3.0.7)\n",
      "#11 43.68 Requirement already satisfied: locket in /usr/local/lib/python3.8/site-packages (from partd>=0.3.10->dask[distributed]->mozilla-jetstream==2021.1.0) (0.2.1)\n",
      "#11 44.56 Requirement already satisfied: pyasn1<0.5.0,>=0.4.6 in /usr/local/lib/python3.8/site-packages (from pyasn1-modules>=0.2.1->google-auth<3.0dev,>=1.25.0->google-cloud-storage->mozilla-jetstream==2021.1.0) (0.4.8)\n",
      "#11 44.86 Requirement already satisfied: heapdict in /usr/local/lib/python3.8/site-packages (from zict>=0.1.3->distributed==2022.02.1->dask[distributed]->mozilla-jetstream==2021.1.0) (1.0.1)\n",
      "#11 45.21 Building wheels for collected packages: mozilla-jetstream\n",
      "#11 45.22   Building wheel for mozilla-jetstream (pyproject.toml): started\n",
      "#11 57.61   Building wheel for mozilla-jetstream (pyproject.toml): finished with status 'done'\n",
      "#11 57.66   Created wheel for mozilla-jetstream: filename=mozilla_jetstream-2021.1.0-py2.py3-none-any.whl size=817268 sha256=b093019916c5d424f562d8573397f6b58d4bef3ca3328aaf0bf619a37bb3d4ba\n",
      "#11 57.66   Stored in directory: /tmp/pip-ephem-wheel-cache-kb2iu2t_/wheels/40/5d/89/f38b7a58cbc6f6bdff423c409ca06a097d4abae527d8c17f06\n",
      "#11 57.68 Successfully built mozilla-jetstream\n",
      "#11 58.47 Installing collected packages: mozilla-jetstream\n",
      "#11 58.96 Successfully installed mozilla-jetstream-2021.1.0\n",
      "#11 58.96 WARNING: Running pip as the 'root' user can result in broken permissions and conflicting behaviour with the system package manager. It is recommended to use a virtual environment instead: https://pip.pypa.io/warnings/venv\n",
      "#11 59.89 WARNING: You are using pip version 22.0.3; however, version 22.0.4 is available.\n",
      "#11 59.89 You should consider upgrading via the '/usr/local/bin/python -m pip install --upgrade pip' command.\n",
      "#11 DONE 60.1s\n",
      "\n",
      "#12 exporting to image\n",
      "#12 sha256:e8c613e07b0b7ff33893b694f7759a10d42e180f2b4dc349fb57dc6b71dcab00\n",
      "#12 exporting layers 0.1s done\n",
      "#12 writing image sha256:6e8baf11871500ecbca2f6b296a6a534097261bedae5d5da02eb1efc0318bfcd done\n",
      "#12 naming to docker.io/library/dberry-jetstream done\n",
      "#12 DONE 0.1s\n",
      "\n",
      "Use 'docker scan' to run Snyk tests against images to find vulnerabilities and learn how to fix them\n"
     ]
    }
   ],
   "source": [
    "%%bash\n",
    "docker build --platform linux/amd64 -t dberry-jetstream . \n",
    "docker tag dberry-jetstream gcr.io/moz-fx-data-experiments/dberry-jetstream\n",
    "docker push gcr.io/moz-fx-data-experiments/dberry-jetstream"
   ]
  },
  {
   "cell_type": "markdown",
   "id": "8e6a1da9-6dff-4b7c-a46d-4759abd69943",
   "metadata": {},
   "source": [
    "Ensure Argo template is correct (in case 0_create_cache.sh was run immediately prior)"
   ]
  },
  {
   "cell_type": "code",
   "execution_count": 3,
   "id": "453809b4-ea68-4e06-a5d0-b5d22b06ce06",
   "metadata": {},
   "outputs": [],
   "source": [
    "sed_str = f's/PARAM/{DRY_RUN}/g'"
   ]
  },
  {
   "cell_type": "code",
   "execution_count": 4,
   "id": "0bd6d14b-24df-4c19-851b-1324188b0046",
   "metadata": {},
   "outputs": [],
   "source": [
    "%%bash -s \"$sed_str\"\n",
    "cp jetstream/workflows/run_template.yaml jetstream/workflows/run.yaml\n",
    "sed -i '' -e $1 jetstream/workflows/run.yaml"
   ]
  },
  {
   "cell_type": "markdown",
   "id": "16ca64ea-f22c-4740-a1ea-b2d64d828b5e",
   "metadata": {},
   "source": [
    "Imports"
   ]
  },
  {
   "cell_type": "code",
   "execution_count": 5,
   "id": "71c0eaf2-1884-4eea-88c6-04a3d6021b9a",
   "metadata": {},
   "outputs": [],
   "source": [
    "import dask\n",
    "import dask.array as da\n",
    "from dask.distributed import Client\n",
    "import subprocess"
   ]
  },
  {
   "cell_type": "markdown",
   "id": "43f9bd57-2e00-4eb4-852f-6ca73d24631d",
   "metadata": {},
   "source": [
    "Set up dask client\n",
    "- Set `threads_per_worker` to 1 to ensure that each worker only launches 1 job at a time\n",
    "- Then set `n_workers` to the number of parallel Argo jobs you want to run"
   ]
  },
  {
   "cell_type": "code",
   "execution_count": 6,
   "id": "db16ad0a-e2d5-425e-ad6e-cb9d5b43a13b",
   "metadata": {},
   "outputs": [],
   "source": [
    "dask_client = Client(n_workers=N_SIMULTANEOUS_ARGO_JOBS, threads_per_worker=1)"
   ]
  },
  {
   "cell_type": "markdown",
   "id": "09b7c6ec-54be-4272-a96e-8d80d6cf8e4c",
   "metadata": {},
   "source": [
    "Define a function which launches one simulation run using Argo"
   ]
  },
  {
   "cell_type": "code",
   "execution_count": 7,
   "id": "8c96097b-55cb-4127-a41e-a22c7d3027a2",
   "metadata": {},
   "outputs": [],
   "source": [
    "@dask.delayed\n",
    "def run_simulation(simulation_iteration: int) -> bool:\n",
    "    dataset = 'dberry_simulated_AA_tests_{:02d}'.format(simulation_iteration)\n",
    "    \n",
    "    drop_dataset_result = subprocess.run(['bq','rm', '-d', '-r', '-f', dataset])\n",
    "    if drop_dataset_result.returncode != 0:\n",
    "        print(f'Unable to delete dataset {dataset}')\n",
    "        return (simulation_iteration, False)\n",
    "        \n",
    "    create_dataset_result = subprocess.run(['bq','mk', dataset], capture_output=True)\n",
    "    if create_dataset_result.returncode != 0:\n",
    "        print(f'Unable to create dataset {dataset}! {create_dataset_result.stdout} {create_dataset_result.stderr}')\n",
    "        return (simulation_iteration, False)\n",
    "        \n",
    "    argo_run_result = subprocess.run([\n",
    "        'jetstream',\n",
    "        'run-argo',\n",
    "        '--date','2022-02-22',\n",
    "        '--project-id','moz-fx-data-experiments',\n",
    "        '--dataset-id',f'{dataset}',\n",
    "        '--bucket','dberry-simulated-aa-tests-temporary',\n",
    "        '--experiment-slug', 'more-from-mozilla-96',\n",
    "        '--cluster-id','jetstream',\n",
    "        '--zone','us-central1-a'],\n",
    "        capture_output=True\n",
    "    )\n",
    "    if argo_run_result.returncode != 0:\n",
    "        print(f'Simulation {simulation_iteration} failed! {argo_run_result.stdout} {argo_run_result.stderr}')\n",
    "        return (simulation_iteration, False)\n",
    "        \n",
    "    return (simulation_iteration, True)\n",
    "        \n",
    "    "
   ]
  },
  {
   "cell_type": "markdown",
   "id": "ac3aad3b-e286-45d3-a4f9-3345070c4791",
   "metadata": {},
   "source": [
    "Create a future for each of the number of simulations you want to run"
   ]
  },
  {
   "cell_type": "code",
   "execution_count": 8,
   "id": "2f214401-1386-4a12-acf7-84891b342dbd",
   "metadata": {},
   "outputs": [],
   "source": [
    "sim_futures = [run_simulation(i) for i in range(N_SIMULATIONS)]"
   ]
  },
  {
   "cell_type": "markdown",
   "id": "b5d032e9-bcd7-4039-9631-b390cf0bdd7b",
   "metadata": {},
   "source": [
    "# Run Simulations\n",
    "Note that the below cell will take a while, approximately $\\left \\lceil{\\frac{\\text{N_SIMULATIONS}}{\\text{N_SIMULTANEOUS_ARGO_JOBS}}}\\right \\rceil \\cdot 30$ minutes when not in dry run"
   ]
  },
  {
   "cell_type": "code",
   "execution_count": 9,
   "id": "8fb69647-0f77-4967-9edb-050813d83c98",
   "metadata": {},
   "outputs": [
    {
     "name": "stdout",
     "output_type": "stream",
     "text": [
      "CPU times: user 56min 50s, sys: 9min 32s, total: 1h 6min 23s\n",
      "Wall time: 5h 46min 56s\n"
     ]
    }
   ],
   "source": [
    "%%time\n",
    "res = dask.compute(*sim_futures)"
   ]
  },
  {
   "cell_type": "code",
   "execution_count": 10,
   "id": "53ed0e0e-42e4-4924-ba09-20857a7ae9ec",
   "metadata": {},
   "outputs": [
    {
     "data": {
      "text/plain": [
       "((0, True),\n",
       " (1, True),\n",
       " (2, True),\n",
       " (3, True),\n",
       " (4, True),\n",
       " (5, True),\n",
       " (6, True),\n",
       " (7, True),\n",
       " (8, True),\n",
       " (9, True),\n",
       " (10, True),\n",
       " (11, True),\n",
       " (12, True),\n",
       " (13, True),\n",
       " (14, True),\n",
       " (15, True),\n",
       " (16, True),\n",
       " (17, True),\n",
       " (18, True),\n",
       " (19, True),\n",
       " (20, True),\n",
       " (21, True),\n",
       " (22, True),\n",
       " (23, True),\n",
       " (24, True),\n",
       " (25, True),\n",
       " (26, True),\n",
       " (27, False),\n",
       " (28, True),\n",
       " (29, True),\n",
       " (30, True),\n",
       " (31, True),\n",
       " (32, True),\n",
       " (33, True),\n",
       " (34, True),\n",
       " (35, True),\n",
       " (36, True),\n",
       " (37, True),\n",
       " (38, True),\n",
       " (39, True),\n",
       " (40, True),\n",
       " (41, True),\n",
       " (42, True),\n",
       " (43, True),\n",
       " (44, True),\n",
       " (45, True),\n",
       " (46, True),\n",
       " (47, True),\n",
       " (48, True),\n",
       " (49, True),\n",
       " (50, True),\n",
       " (51, True),\n",
       " (52, True),\n",
       " (53, True),\n",
       " (54, True),\n",
       " (55, True),\n",
       " (56, True),\n",
       " (57, True),\n",
       " (58, True),\n",
       " (59, True),\n",
       " (60, True),\n",
       " (61, True),\n",
       " (62, True),\n",
       " (63, True),\n",
       " (64, True),\n",
       " (65, True),\n",
       " (66, True),\n",
       " (67, True),\n",
       " (68, True),\n",
       " (69, True),\n",
       " (70, True),\n",
       " (71, True),\n",
       " (72, True),\n",
       " (73, True),\n",
       " (74, True),\n",
       " (75, True),\n",
       " (76, True),\n",
       " (77, True),\n",
       " (78, True),\n",
       " (79, True),\n",
       " (80, True),\n",
       " (81, True),\n",
       " (82, True),\n",
       " (83, True),\n",
       " (84, True),\n",
       " (85, True),\n",
       " (86, True),\n",
       " (87, True),\n",
       " (88, True),\n",
       " (89, True),\n",
       " (90, True),\n",
       " (91, True),\n",
       " (92, True),\n",
       " (93, True),\n",
       " (94, True),\n",
       " (95, True),\n",
       " (96, True),\n",
       " (97, True),\n",
       " (98, True),\n",
       " (99, True))"
      ]
     },
     "execution_count": 10,
     "metadata": {},
     "output_type": "execute_result"
    }
   ],
   "source": [
    "res"
   ]
  },
  {
   "cell_type": "code",
   "execution_count": null,
   "id": "651f9eab-8c2c-4e4a-859a-4e5615b57733",
   "metadata": {},
   "outputs": [],
   "source": []
  }
 ],
 "metadata": {
  "kernelspec": {
   "display_name": "Python 3 (ipykernel)",
   "language": "python",
   "name": "python3"
  },
  "language_info": {
   "codemirror_mode": {
    "name": "ipython",
    "version": 3
   },
   "file_extension": ".py",
   "mimetype": "text/x-python",
   "name": "python",
   "nbconvert_exporter": "python",
   "pygments_lexer": "ipython3",
   "version": "3.9.7"
  }
 },
 "nbformat": 4,
 "nbformat_minor": 5
}
