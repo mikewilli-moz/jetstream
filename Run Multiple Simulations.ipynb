{
 "cells": [
  {
   "cell_type": "markdown",
   "id": "a3968777-096e-4a98-b2ea-774cee323b4a",
   "metadata": {},
   "source": [
    "# Config"
   ]
  },
  {
   "cell_type": "code",
   "execution_count": 1,
   "id": "3ff5b30c-30c7-4a88-8501-7146f7a3d819",
   "metadata": {},
   "outputs": [],
   "source": [
    "DRY_RUN = False\n",
    "N_SIMULTANEOUS_ARGO_JOBS = 15\n",
    "N_SIMULATIONS = 100"
   ]
  },
  {
   "cell_type": "markdown",
   "id": "55f391c1-bfc4-4d27-81e1-892170d5c6c9",
   "metadata": {},
   "source": [
    "# Setup"
   ]
  },
  {
   "cell_type": "markdown",
   "id": "c82f9182-78b9-4c11-b209-c3d5ceabc531",
   "metadata": {},
   "source": [
    "Build/deploy most recent container image"
   ]
  },
  {
   "cell_type": "code",
   "execution_count": 2,
   "id": "5f5693f1-3748-4c6c-baa3-7160633fd760",
   "metadata": {
    "tags": []
   },
   "outputs": [
    {
     "name": "stdout",
     "output_type": "stream",
     "text": [
      "Using default tag: latest\n",
      "The push refers to repository [gcr.io/moz-fx-data-experiments/dberry-jetstream]\n",
      "b566b48f6c9a: Preparing\n",
      "d8834038e9fd: Preparing\n",
      "5f70bf18a086: Preparing\n",
      "514a73f2b801: Preparing\n",
      "769d8974a06f: Preparing\n",
      "08b87a80ce3a: Preparing\n",
      "82b375d6a9af: Preparing\n",
      "ba00c52d3702: Preparing\n",
      "04e8f209746d: Preparing\n",
      "7ed1d87a050a: Preparing\n",
      "3ffc178e6d86: Preparing\n",
      "327e42081bbe: Preparing\n",
      "6e632f416458: Preparing\n",
      "e019be289189: Preparing\n",
      "c9a63110150b: Preparing\n",
      "08b87a80ce3a: Waiting\n",
      "04e8f209746d: Waiting\n",
      "7ed1d87a050a: Waiting\n",
      "3ffc178e6d86: Waiting\n",
      "327e42081bbe: Waiting\n",
      "6e632f416458: Waiting\n",
      "e019be289189: Waiting\n",
      "c9a63110150b: Waiting\n",
      "82b375d6a9af: Waiting\n",
      "ba00c52d3702: Waiting\n",
      "769d8974a06f: Layer already exists\n",
      "514a73f2b801: Layer already exists\n",
      "5f70bf18a086: Layer already exists\n",
      "82b375d6a9af: Layer already exists\n",
      "ba00c52d3702: Layer already exists\n",
      "08b87a80ce3a: Layer already exists\n",
      "7ed1d87a050a: Layer already exists\n",
      "3ffc178e6d86: Layer already exists\n",
      "04e8f209746d: Layer already exists\n",
      "327e42081bbe: Layer already exists\n",
      "e019be289189: Layer already exists\n",
      "6e632f416458: Layer already exists\n",
      "c9a63110150b: Layer already exists\n",
      "d8834038e9fd: Pushed\n",
      "b566b48f6c9a: Pushed\n",
      "latest: digest: sha256:aa4d4e60738f47edbed562d5ca0c7ebb2a6f5003ea8e150dceb6f0664bceb21d size: 3475\n"
     ]
    },
    {
     "name": "stderr",
     "output_type": "stream",
     "text": [
      "#1 [internal] load build definition from Dockerfile\n",
      "#1 sha256:445696662ac32c88c154ceb4a74e934d9f5e083e1925a118359606403fe1a0fa\n",
      "#1 transferring dockerfile: 37B done\n",
      "#1 DONE 0.0s\n",
      "\n",
      "#2 [internal] load .dockerignore\n",
      "#2 sha256:ac536abdba951d9c6f3ea278a85b89fc231851097dc3b71936e2a32a25a70292\n",
      "#2 transferring context: 34B done\n",
      "#2 DONE 0.0s\n",
      "\n",
      "#3 [internal] load metadata for docker.io/library/python:3.8\n",
      "#3 sha256:edad251955f644c6004999f0af04035912392fa02db26821676452becbc715fb\n",
      "#3 DONE 0.7s\n",
      "\n",
      "#4 [1/7] FROM docker.io/library/python:3.8@sha256:02991ad89f1fc4e37205832fe7b4886d7035bb0cd151d5dc4ebc25e6965b0f0d\n",
      "#4 sha256:42783365d070be6211be16cccc88d7e522c73242f8c7d7b53ebb249e7475a014\n",
      "#4 DONE 0.0s\n",
      "\n",
      "#5 [internal] load build context\n",
      "#5 sha256:4e4d2586cee80e769ec8a9730caaa1d2be00156af98ba0d6bbab0febf6409eef\n",
      "#5 transferring context: 111.93kB 0.0s done\n",
      "#5 DONE 0.1s\n",
      "\n",
      "#6 [2/7] COPY requirements.txt requirements.txt\n",
      "#6 sha256:7440dff19ab32eb2e03da4e1404b78c80c9c922f08e859af0bdf99f518990530\n",
      "#6 CACHED\n",
      "\n",
      "#7 [3/7] RUN python -m pip install --no-cache-dir --upgrade pip==22.0.4     && python -m pip install --no-cache-dir -r requirements.txt\n",
      "#7 sha256:7339486506a368c5efc523c7091a400f0196d9f460572599c8cd2177004d3000\n",
      "#7 CACHED\n",
      "\n",
      "#8 [4/7] RUN mkdir -p /app\n",
      "#8 sha256:24fed3affb34eb55ed0081db726774fe2420db7bc39ae7f5639331186f53e9ca\n",
      "#8 CACHED\n",
      "\n",
      "#9 [5/7] WORKDIR /app\n",
      "#9 sha256:ac60044522e7876613bf9eced656f7634e984bd389e70cb0833830764868bcde\n",
      "#9 CACHED\n",
      "\n",
      "#10 [6/7] COPY . .\n",
      "#10 sha256:d73c9d6109b1d7a2ead907f768426b8c790db297f4170e512f1822921955f95c\n",
      "#10 DONE 0.1s\n",
      "\n",
      "#11 [7/7] RUN python -m pip install --no-cache-dir .\n",
      "#11 sha256:b7816a167ba7f4cbd2edc4bd351db27812af95179b12f861fbabb709c367b00d\n",
      "#11 2.833 Processing /app\n",
      "#11 3.419   Installing build dependencies: started\n",
      "#11 21.91   Installing build dependencies: finished with status 'done'\n",
      "#11 21.92   Getting requirements to build wheel: started\n",
      "#11 31.08   Getting requirements to build wheel: finished with status 'done'\n",
      "#11 31.09   Preparing metadata (pyproject.toml): started\n",
      "#11 40.93   Preparing metadata (pyproject.toml): finished with status 'done'\n",
      "#11 41.09 Requirement already satisfied: google-cloud-bigquery-storage in /usr/local/lib/python3.8/site-packages (from mozilla-jetstream==2021.1.0) (2.12.0)\n",
      "#11 41.09 Requirement already satisfied: google-cloud-container in /usr/local/lib/python3.8/site-packages (from mozilla-jetstream==2021.1.0) (2.10.5)\n",
      "#11 41.09 Requirement already satisfied: cattrs in /usr/local/lib/python3.8/site-packages (from mozilla-jetstream==2021.1.0) (1.10.0)\n",
      "#11 41.10 Requirement already satisfied: dask[distributed] in /usr/local/lib/python3.8/site-packages (from mozilla-jetstream==2021.1.0) (2022.2.1)\n",
      "#11 41.10 Requirement already satisfied: grpcio in /usr/local/lib/python3.8/site-packages (from mozilla-jetstream==2021.1.0) (1.44.0)\n",
      "#11 41.10 Requirement already satisfied: pytz in /usr/local/lib/python3.8/site-packages (from mozilla-jetstream==2021.1.0) (2021.3)\n",
      "#11 41.11 Requirement already satisfied: requests in /usr/local/lib/python3.8/site-packages (from mozilla-jetstream==2021.1.0) (2.27.1)\n",
      "#11 41.11 Requirement already satisfied: jinja2 in /usr/local/lib/python3.8/site-packages (from mozilla-jetstream==2021.1.0) (3.0.3)\n",
      "#11 41.11 Requirement already satisfied: GitPython in /usr/local/lib/python3.8/site-packages (from mozilla-jetstream==2021.1.0) (3.1.27)\n",
      "#11 41.11 Requirement already satisfied: google-cloud-bigquery in /usr/local/lib/python3.8/site-packages (from mozilla-jetstream==2021.1.0) (2.34.0)\n",
      "#11 41.12 Requirement already satisfied: google-cloud-storage in /usr/local/lib/python3.8/site-packages (from mozilla-jetstream==2021.1.0) (2.1.0)\n",
      "#11 41.12 Requirement already satisfied: smart-open[gcs] in /usr/local/lib/python3.8/site-packages (from mozilla-jetstream==2021.1.0) (5.2.1)\n",
      "#11 41.12 Requirement already satisfied: attrs in /usr/local/lib/python3.8/site-packages (from mozilla-jetstream==2021.1.0) (21.4.0)\n",
      "#11 41.13 Requirement already satisfied: statsmodels in /usr/local/lib/python3.8/site-packages (from mozilla-jetstream==2021.1.0) (0.13.2)\n",
      "#11 41.13 Requirement already satisfied: Click in /usr/local/lib/python3.8/site-packages (from mozilla-jetstream==2021.1.0) (8.0.4)\n",
      "#11 41.13 Requirement already satisfied: toml in /usr/local/lib/python3.8/site-packages (from mozilla-jetstream==2021.1.0) (0.10.2)\n",
      "#11 41.13 Requirement already satisfied: pyarrow in /usr/local/lib/python3.8/site-packages (from mozilla-jetstream==2021.1.0) (7.0.0)\n",
      "#11 41.14 Requirement already satisfied: PyYAML in /usr/local/lib/python3.8/site-packages (from mozilla-jetstream==2021.1.0) (6.0)\n",
      "#11 41.14 Requirement already satisfied: mozanalysis in /usr/local/lib/python3.8/site-packages (from mozilla-jetstream==2021.1.0) (2021.12.2)\n",
      "#11 41.49 Requirement already satisfied: packaging>=20.0 in /usr/local/lib/python3.8/site-packages (from dask[distributed]->mozilla-jetstream==2021.1.0) (21.3)\n",
      "#11 41.49 Requirement already satisfied: toolz>=0.8.2 in /usr/local/lib/python3.8/site-packages (from dask[distributed]->mozilla-jetstream==2021.1.0) (0.11.2)\n",
      "#11 41.50 Requirement already satisfied: partd>=0.3.10 in /usr/local/lib/python3.8/site-packages (from dask[distributed]->mozilla-jetstream==2021.1.0) (1.2.0)\n",
      "#11 41.50 Requirement already satisfied: fsspec>=0.6.0 in /usr/local/lib/python3.8/site-packages (from dask[distributed]->mozilla-jetstream==2021.1.0) (2022.2.0)\n",
      "#11 41.50 Requirement already satisfied: cloudpickle>=1.1.1 in /usr/local/lib/python3.8/site-packages (from dask[distributed]->mozilla-jetstream==2021.1.0) (2.0.0)\n",
      "#11 41.51 Requirement already satisfied: distributed==2022.02.1 in /usr/local/lib/python3.8/site-packages (from dask[distributed]->mozilla-jetstream==2021.1.0) (2022.2.1)\n",
      "#11 41.57 Requirement already satisfied: zict>=0.1.3 in /usr/local/lib/python3.8/site-packages (from distributed==2022.02.1->dask[distributed]->mozilla-jetstream==2021.1.0) (2.1.0)\n",
      "#11 41.57 Requirement already satisfied: tornado>=6.0.3 in /usr/local/lib/python3.8/site-packages (from distributed==2022.02.1->dask[distributed]->mozilla-jetstream==2021.1.0) (6.1)\n",
      "#11 41.58 Requirement already satisfied: setuptools in /usr/local/lib/python3.8/site-packages (from distributed==2022.02.1->dask[distributed]->mozilla-jetstream==2021.1.0) (57.5.0)\n",
      "#11 41.58 Requirement already satisfied: msgpack>=0.6.0 in /usr/local/lib/python3.8/site-packages (from distributed==2022.02.1->dask[distributed]->mozilla-jetstream==2021.1.0) (1.0.3)\n",
      "#11 41.59 Requirement already satisfied: tblib>=1.6.0 in /usr/local/lib/python3.8/site-packages (from distributed==2022.02.1->dask[distributed]->mozilla-jetstream==2021.1.0) (1.7.0)\n",
      "#11 41.59 Requirement already satisfied: sortedcontainers!=2.0.0,!=2.0.1 in /usr/local/lib/python3.8/site-packages (from distributed==2022.02.1->dask[distributed]->mozilla-jetstream==2021.1.0) (2.4.0)\n",
      "#11 41.60 Requirement already satisfied: psutil>=5.0 in /usr/local/lib/python3.8/site-packages (from distributed==2022.02.1->dask[distributed]->mozilla-jetstream==2021.1.0) (5.9.0)\n",
      "#11 41.64 Requirement already satisfied: gitdb<5,>=4.0.1 in /usr/local/lib/python3.8/site-packages (from GitPython->mozilla-jetstream==2021.1.0) (4.0.9)\n",
      "#11 41.84 Requirement already satisfied: protobuf>=3.12.0 in /usr/local/lib/python3.8/site-packages (from google-cloud-bigquery->mozilla-jetstream==2021.1.0) (3.19.4)\n",
      "#11 41.85 Requirement already satisfied: google-resumable-media<3.0dev,>=0.6.0 in /usr/local/lib/python3.8/site-packages (from google-cloud-bigquery->mozilla-jetstream==2021.1.0) (2.3.0)\n",
      "#11 41.85 Requirement already satisfied: google-api-core[grpc]<3.0.0dev,>=1.29.0 in /usr/local/lib/python3.8/site-packages (from google-cloud-bigquery->mozilla-jetstream==2021.1.0) (2.5.0)\n",
      "#11 41.86 Requirement already satisfied: google-cloud-core<3.0.0dev,>=1.4.1 in /usr/local/lib/python3.8/site-packages (from google-cloud-bigquery->mozilla-jetstream==2021.1.0) (2.2.2)\n",
      "#11 41.86 Requirement already satisfied: proto-plus>=1.10.0 in /usr/local/lib/python3.8/site-packages (from google-cloud-bigquery->mozilla-jetstream==2021.1.0) (1.20.3)\n",
      "#11 41.87 Requirement already satisfied: python-dateutil<3.0dev,>=2.7.2 in /usr/local/lib/python3.8/site-packages (from google-cloud-bigquery->mozilla-jetstream==2021.1.0) (2.8.2)\n",
      "#11 41.91 Requirement already satisfied: six>=1.5.2 in /usr/local/lib/python3.8/site-packages (from grpcio->mozilla-jetstream==2021.1.0) (1.16.0)\n",
      "#11 42.00 Requirement already satisfied: idna<4,>=2.5 in /usr/local/lib/python3.8/site-packages (from requests->mozilla-jetstream==2021.1.0) (3.3)\n",
      "#11 42.00 Requirement already satisfied: certifi>=2017.4.17 in /usr/local/lib/python3.8/site-packages (from requests->mozilla-jetstream==2021.1.0) (2021.10.8)\n",
      "#11 42.01 Requirement already satisfied: urllib3<1.27,>=1.21.1 in /usr/local/lib/python3.8/site-packages (from requests->mozilla-jetstream==2021.1.0) (1.26.8)\n",
      "#11 42.01 Requirement already satisfied: charset-normalizer~=2.0.0 in /usr/local/lib/python3.8/site-packages (from requests->mozilla-jetstream==2021.1.0) (2.0.12)\n",
      "#11 42.10 Requirement already satisfied: grpc-google-iam-v1<0.13dev,>=0.12.3 in /usr/local/lib/python3.8/site-packages (from google-cloud-container->mozilla-jetstream==2021.1.0) (0.12.3)\n",
      "#11 42.15 Requirement already satisfied: google-auth<3.0dev,>=1.25.0 in /usr/local/lib/python3.8/site-packages (from google-cloud-storage->mozilla-jetstream==2021.1.0) (2.6.0)\n",
      "#11 42.18 Requirement already satisfied: MarkupSafe>=2.0 in /usr/local/lib/python3.8/site-packages (from jinja2->mozilla-jetstream==2021.1.0) (2.1.0)\n",
      "#11 42.25 Requirement already satisfied: scipy in /usr/local/lib/python3.8/site-packages (from mozanalysis->mozilla-jetstream==2021.1.0) (1.8.0)\n",
      "#11 42.25 Requirement already satisfied: numpy in /usr/local/lib/python3.8/site-packages (from mozanalysis->mozilla-jetstream==2021.1.0) (1.22.2)\n",
      "#11 42.26 Requirement already satisfied: pandas in /usr/local/lib/python3.8/site-packages (from mozanalysis->mozilla-jetstream==2021.1.0) (1.4.1)\n",
      "#11 42.57 Requirement already satisfied: patsy>=0.5.2 in /usr/local/lib/python3.8/site-packages (from statsmodels->mozilla-jetstream==2021.1.0) (0.5.2)\n",
      "#11 42.82 Requirement already satisfied: smmap<6,>=3.0.1 in /usr/local/lib/python3.8/site-packages (from gitdb<5,>=4.0.1->GitPython->mozilla-jetstream==2021.1.0) (5.0.0)\n",
      "#11 42.89 Requirement already satisfied: googleapis-common-protos<2.0dev,>=1.52.0 in /usr/local/lib/python3.8/site-packages (from google-api-core[grpc]<3.0.0dev,>=1.29.0->google-cloud-bigquery->mozilla-jetstream==2021.1.0) (1.55.0)\n",
      "#11 42.93 Requirement already satisfied: grpcio-status<2.0dev,>=1.33.2 in /usr/local/lib/python3.8/site-packages (from google-api-core[grpc]<3.0.0dev,>=1.29.0->google-cloud-bigquery->mozilla-jetstream==2021.1.0) (1.44.0)\n",
      "#11 43.03 Requirement already satisfied: pyasn1-modules>=0.2.1 in /usr/local/lib/python3.8/site-packages (from google-auth<3.0dev,>=1.25.0->google-cloud-storage->mozilla-jetstream==2021.1.0) (0.2.8)\n",
      "#11 43.03 Requirement already satisfied: rsa<5,>=3.1.4 in /usr/local/lib/python3.8/site-packages (from google-auth<3.0dev,>=1.25.0->google-cloud-storage->mozilla-jetstream==2021.1.0) (4.8)\n",
      "#11 43.04 Requirement already satisfied: cachetools<6.0,>=2.0.0 in /usr/local/lib/python3.8/site-packages (from google-auth<3.0dev,>=1.25.0->google-cloud-storage->mozilla-jetstream==2021.1.0) (5.0.0)\n",
      "#11 43.13 Requirement already satisfied: google-crc32c<2.0dev,>=1.0 in /usr/local/lib/python3.8/site-packages (from google-resumable-media<3.0dev,>=0.6.0->google-cloud-bigquery->mozilla-jetstream==2021.1.0) (1.3.0)\n",
      "#11 43.27 Requirement already satisfied: pyparsing!=3.0.5,>=2.0.2 in /usr/local/lib/python3.8/site-packages (from packaging>=20.0->dask[distributed]->mozilla-jetstream==2021.1.0) (3.0.7)\n",
      "#11 43.42 Requirement already satisfied: locket in /usr/local/lib/python3.8/site-packages (from partd>=0.3.10->dask[distributed]->mozilla-jetstream==2021.1.0) (0.2.1)\n",
      "#11 44.15 Requirement already satisfied: pyasn1<0.5.0,>=0.4.6 in /usr/local/lib/python3.8/site-packages (from pyasn1-modules>=0.2.1->google-auth<3.0dev,>=1.25.0->google-cloud-storage->mozilla-jetstream==2021.1.0) (0.4.8)\n",
      "#11 44.42 Requirement already satisfied: heapdict in /usr/local/lib/python3.8/site-packages (from zict>=0.1.3->distributed==2022.02.1->dask[distributed]->mozilla-jetstream==2021.1.0) (1.0.1)\n",
      "#11 44.75 Building wheels for collected packages: mozilla-jetstream\n",
      "#11 44.76   Building wheel for mozilla-jetstream (pyproject.toml): started\n",
      "#11 56.67   Building wheel for mozilla-jetstream (pyproject.toml): finished with status 'done'\n",
      "#11 56.71   Created wheel for mozilla-jetstream: filename=mozilla_jetstream-2021.1.0-py2.py3-none-any.whl size=817268 sha256=69a8abcd79365f2895ce4e6d4a47bb72b098241e05f7c0aa30ca259bc3f27545\n",
      "#11 56.71   Stored in directory: /tmp/pip-ephem-wheel-cache-l23wlcf4/wheels/40/5d/89/f38b7a58cbc6f6bdff423c409ca06a097d4abae527d8c17f06\n",
      "#11 56.73 Successfully built mozilla-jetstream\n",
      "#11 57.50 Installing collected packages: mozilla-jetstream\n",
      "#11 58.00 Successfully installed mozilla-jetstream-2021.1.0\n",
      "#11 58.00 WARNING: Running pip as the 'root' user can result in broken permissions and conflicting behaviour with the system package manager. It is recommended to use a virtual environment instead: https://pip.pypa.io/warnings/venv\n",
      "#11 DONE 59.1s\n",
      "\n",
      "#12 exporting to image\n",
      "#12 sha256:e8c613e07b0b7ff33893b694f7759a10d42e180f2b4dc349fb57dc6b71dcab00\n",
      "#12 exporting layers\n",
      "#12 exporting layers 0.2s done\n",
      "#12 writing image sha256:934865e491e8aa2923da93190f3351b56c3c3b45131af50973a4a11ed5031aad done\n",
      "#12 naming to docker.io/library/dberry-jetstream done\n",
      "#12 DONE 0.2s\n",
      "\n",
      "Use 'docker scan' to run Snyk tests against images to find vulnerabilities and learn how to fix them\n"
     ]
    }
   ],
   "source": [
    "%%bash\n",
    "docker build --platform linux/amd64 -t dberry-jetstream . \n",
    "docker tag dberry-jetstream gcr.io/moz-fx-data-experiments/dberry-jetstream\n",
    "docker push gcr.io/moz-fx-data-experiments/dberry-jetstream"
   ]
  },
  {
   "cell_type": "markdown",
   "id": "8e6a1da9-6dff-4b7c-a46d-4759abd69943",
   "metadata": {},
   "source": [
    "Ensure Argo template is correct (in case 0_create_cache.sh was run immediately prior)"
   ]
  },
  {
   "cell_type": "code",
   "execution_count": 3,
   "id": "453809b4-ea68-4e06-a5d0-b5d22b06ce06",
   "metadata": {},
   "outputs": [],
   "source": [
    "sed_str = f's/PARAM/{DRY_RUN}/g'"
   ]
  },
  {
   "cell_type": "code",
   "execution_count": 4,
   "id": "0bd6d14b-24df-4c19-851b-1324188b0046",
   "metadata": {},
   "outputs": [],
   "source": [
    "%%bash -s \"$sed_str\"\n",
    "cp jetstream/workflows/run_template.yaml jetstream/workflows/run.yaml\n",
    "sed -i '' -e $1 jetstream/workflows/run.yaml"
   ]
  },
  {
   "cell_type": "markdown",
   "id": "16ca64ea-f22c-4740-a1ea-b2d64d828b5e",
   "metadata": {},
   "source": [
    "Imports"
   ]
  },
  {
   "cell_type": "code",
   "execution_count": 5,
   "id": "71c0eaf2-1884-4eea-88c6-04a3d6021b9a",
   "metadata": {},
   "outputs": [],
   "source": [
    "import dask\n",
    "import dask.array as da\n",
    "from dask.distributed import Client\n",
    "import subprocess"
   ]
  },
  {
   "cell_type": "markdown",
   "id": "43f9bd57-2e00-4eb4-852f-6ca73d24631d",
   "metadata": {},
   "source": [
    "Set up dask client\n",
    "- Set `threads_per_worker` to 1 to ensure that each worker only launches 1 job at a time\n",
    "- Then set `n_workers` to the number of parallel Argo jobs you want to run"
   ]
  },
  {
   "cell_type": "code",
   "execution_count": 6,
   "id": "db16ad0a-e2d5-425e-ad6e-cb9d5b43a13b",
   "metadata": {},
   "outputs": [],
   "source": [
    "dask_client = Client(n_workers=N_SIMULTANEOUS_ARGO_JOBS, threads_per_worker=1)"
   ]
  },
  {
   "cell_type": "markdown",
   "id": "09b7c6ec-54be-4272-a96e-8d80d6cf8e4c",
   "metadata": {},
   "source": [
    "Define a function which launches one simulation run using Argo"
   ]
  },
  {
   "cell_type": "code",
   "execution_count": 7,
   "id": "8c96097b-55cb-4127-a41e-a22c7d3027a2",
   "metadata": {},
   "outputs": [],
   "source": [
    "@dask.delayed\n",
    "def run_simulation(simulation_iteration: int) -> bool:\n",
    "    dataset = 'dberry_simulated_AA_tests_{:02d}'.format(simulation_iteration)\n",
    "    \n",
    "    drop_dataset_result = subprocess.run(['bq','rm', '-d', '-r', '-f', dataset])\n",
    "    if drop_dataset_result.returncode != 0:\n",
    "        print(f'Unable to delete dataset {dataset}')\n",
    "        return (simulation_iteration, False)\n",
    "        \n",
    "    create_dataset_result = subprocess.run(['bq','mk', dataset], capture_output=True)\n",
    "    if create_dataset_result.returncode != 0:\n",
    "        print(f'Unable to create dataset {dataset}! {create_dataset_result.stdout} {create_dataset_result.stderr}')\n",
    "        return (simulation_iteration, False)\n",
    "        \n",
    "    argo_run_result = subprocess.run([\n",
    "        'jetstream',\n",
    "        'run-argo',\n",
    "        '--date','2022-02-22',\n",
    "        '--project-id','moz-fx-data-experiments',\n",
    "        '--dataset-id',f'{dataset}',\n",
    "        '--bucket','dberry-simulated-aa-tests-temporary',\n",
    "        '--experiment-slug', 'more-from-mozilla-96',\n",
    "        '--cluster-id','jetstream',\n",
    "        '--zone','us-central1-a'],\n",
    "        capture_output=True\n",
    "    )\n",
    "    if argo_run_result.returncode != 0:\n",
    "        print(f'Simulation {simulation_iteration} failed! {argo_run_result.stdout} {argo_run_result.stderr}')\n",
    "        return (simulation_iteration, False)\n",
    "        \n",
    "    return (simulation_iteration, True)\n",
    "        \n",
    "    "
   ]
  },
  {
   "cell_type": "markdown",
   "id": "ac3aad3b-e286-45d3-a4f9-3345070c4791",
   "metadata": {},
   "source": [
    "Create a future for each of the number of simulations you want to run"
   ]
  },
  {
   "cell_type": "code",
   "execution_count": 8,
   "id": "2f214401-1386-4a12-acf7-84891b342dbd",
   "metadata": {},
   "outputs": [],
   "source": [
    "sim_futures = [run_simulation(i) for i in range(N_SIMULATIONS)]"
   ]
  },
  {
   "cell_type": "markdown",
   "id": "b5d032e9-bcd7-4039-9631-b390cf0bdd7b",
   "metadata": {},
   "source": [
    "# Run Simulations\n",
    "Note that the below cell will take a while, approximately $\\left \\lceil{\\frac{\\text{N_SIMULATIONS}}{\\text{N_SIMULTANEOUS_ARGO_JOBS}}}\\right \\rceil \\cdot 30$ minutes when not in dry run"
   ]
  },
  {
   "cell_type": "code",
   "execution_count": null,
   "id": "8fb69647-0f77-4967-9edb-050813d83c98",
   "metadata": {},
   "outputs": [],
   "source": [
    "%%time\n",
    "res = dask.compute(*sim_futures)"
   ]
  },
  {
   "cell_type": "code",
   "execution_count": null,
   "id": "53ed0e0e-42e4-4924-ba09-20857a7ae9ec",
   "metadata": {},
   "outputs": [],
   "source": [
    "res"
   ]
  },
  {
   "cell_type": "code",
   "execution_count": null,
   "id": "651f9eab-8c2c-4e4a-859a-4e5615b57733",
   "metadata": {},
   "outputs": [],
   "source": []
  }
 ],
 "metadata": {
  "kernelspec": {
   "display_name": "Python 3 (ipykernel)",
   "language": "python",
   "name": "python3"
  },
  "language_info": {
   "codemirror_mode": {
    "name": "ipython",
    "version": 3
   },
   "file_extension": ".py",
   "mimetype": "text/x-python",
   "name": "python",
   "nbconvert_exporter": "python",
   "pygments_lexer": "ipython3",
   "version": "3.9.7"
  }
 },
 "nbformat": 4,
 "nbformat_minor": 5
}
